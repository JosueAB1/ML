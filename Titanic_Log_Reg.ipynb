{
  "cells": [
    {
      "cell_type": "markdown",
      "source": [
        "# ***Titanic Prediction***\n",
        "---------\n",
        "\n",
        "**Created by:** *Josue Arellano Barba*\n",
        "\n",
        "**Date:** *September 17th, 2023*"
      ],
      "metadata": {
        "id": "N2rwy5rZqqkD"
      }
    },
    {
      "cell_type": "code",
      "source": [
        "# Importing the necessary libraries\n",
        "import numpy as np\n",
        "import pandas as pd\n",
        "from sklearn.model_selection import train_test_split\n",
        "from sklearn.preprocessing import LabelEncoder, MinMaxScaler\n",
        "from sklearn.linear_model import LogisticRegression\n",
        "from sklearn.metrics import classification_report"
      ],
      "metadata": {
        "id": "DW6IGQPTMlbT"
      },
      "execution_count": 1,
      "outputs": []
    },
    {
      "cell_type": "code",
      "source": [
        "# Loading the data\n",
        "df = pd.read_csv(\"train.csv\")\n",
        "df_test = pd.read_csv(\"test.csv\")"
      ],
      "metadata": {
        "id": "Fs5AW1JwMllG"
      },
      "execution_count": 2,
      "outputs": []
    },
    {
      "cell_type": "code",
      "source": [
        "# Splitting the data into training and testing sets\n",
        "X_train, X_test, y_train, y_test = train_test_split(df, df[\"Survived\"].values, test_size=0.25, random_state=42)"
      ],
      "metadata": {
        "id": "fngAz9_0MluK"
      },
      "execution_count": 3,
      "outputs": []
    },
    {
      "cell_type": "code",
      "source": [
        "# Dropping unnecessary columns\n",
        "cols_to_drop = [\"PassengerId\", \"Name\", \"Ticket\"]\n",
        "X_train = X_train.drop(cols_to_drop, axis=1)\n",
        "X_test = X_test.drop(cols_to_drop, axis=1)"
      ],
      "metadata": {
        "id": "jY_cdyGyMxGV"
      },
      "execution_count": 4,
      "outputs": []
    },
    {
      "cell_type": "code",
      "source": [
        "# Encoding categorical variables\n",
        "encoder = LabelEncoder()\n",
        "X_train[\"Sex\"] = encoder.fit_transform(X_train[\"Sex\"])\n",
        "X_test[\"Sex\"] = encoder.transform(X_test[\"Sex\"])\n",
        "X_train[\"Embarked\"] = encoder.fit_transform(X_train[\"Embarked\"])\n",
        "X_test[\"Embarked\"] = encoder.transform(X_test[\"Embarked\"])"
      ],
      "metadata": {
        "id": "uaeh3nh7MxOt"
      },
      "execution_count": 5,
      "outputs": []
    },
    {
      "cell_type": "code",
      "source": [
        "# Filling in missing values\n",
        "X_train[\"Age\"] = X_train[\"Age\"].fillna(X_train[\"Age\"].mean())\n",
        "X_test[\"Age\"] = X_test[\"Age\"].fillna(X_test[\"Age\"].mean())"
      ],
      "metadata": {
        "id": "AhWy14ncM4Ie"
      },
      "execution_count": 6,
      "outputs": []
    },
    {
      "cell_type": "code",
      "source": [
        "# Extracting information from the 'Cabin' column\n",
        "X_train[\"Cabin_Letter\"] = X_train[\"Cabin\"].str.extract('([A-Za-z])')\n",
        "X_train[\"Cabin_Number\"] = X_train[\"Cabin\"].str.extract('(\\d+)')\n",
        "X_test[\"Cabin_Letter\"] = X_test[\"Cabin\"].str.extract('([A-Za-z])')\n",
        "X_test[\"Cabin_Number\"] = X_test[\"Cabin\"].str.extract('(\\d+)')"
      ],
      "metadata": {
        "id": "857ULc8fM4SV"
      },
      "execution_count": 7,
      "outputs": []
    },
    {
      "cell_type": "code",
      "source": [
        "# Filling missing values in the new columns\n",
        "X_train[\"Cabin_Letter\"].fillna('N', inplace=True)  # 'N' for missing values\n",
        "X_train[\"Cabin_Number\"].fillna(0, inplace=True)    # 0 for missing values\n",
        "X_test[\"Cabin_Letter\"].fillna('N', inplace=True)\n",
        "X_test[\"Cabin_Number\"].fillna(0, inplace=True)"
      ],
      "metadata": {
        "id": "E9GLqOwiM4cj"
      },
      "execution_count": 8,
      "outputs": []
    },
    {
      "cell_type": "code",
      "source": [
        "# Encoding the Cabin Letter column\n",
        "X_train[\"Cabin_Letter\"] = encoder.fit_transform(X_train[\"Cabin_Letter\"])\n",
        "X_test[\"Cabin_Letter\"] = encoder.transform(X_test[\"Cabin_Letter\"])"
      ],
      "metadata": {
        "id": "oAd5gGAkNDvv"
      },
      "execution_count": 9,
      "outputs": []
    },
    {
      "cell_type": "code",
      "source": [
        "# Scaling the features\n",
        "scaler = MinMaxScaler()\n",
        "X_train = scaler.fit_transform(X_train.drop([\"Cabin\"], axis=1))  # Dropping the original 'Cabin' column\n",
        "X_test = scaler.transform(X_test.drop([\"Cabin\"], axis=1))"
      ],
      "metadata": {
        "id": "-Zrf2ygZND21"
      },
      "execution_count": 10,
      "outputs": []
    },
    {
      "cell_type": "code",
      "source": [
        "# Training the model\n",
        "model = LogisticRegression(max_iter=1000)\n",
        "model.fit(X_train, y_train)"
      ],
      "metadata": {
        "colab": {
          "base_uri": "https://localhost:8080/",
          "height": 74
        },
        "id": "yrXp0D5cND7T",
        "outputId": "4f0e8de4-7dd2-4cd4-b518-3e2a36a3a858"
      },
      "execution_count": 11,
      "outputs": [
        {
          "output_type": "execute_result",
          "data": {
            "text/plain": [
              "LogisticRegression(max_iter=1000)"
            ],
            "text/html": [
              "<style>#sk-container-id-1 {color: black;background-color: white;}#sk-container-id-1 pre{padding: 0;}#sk-container-id-1 div.sk-toggleable {background-color: white;}#sk-container-id-1 label.sk-toggleable__label {cursor: pointer;display: block;width: 100%;margin-bottom: 0;padding: 0.3em;box-sizing: border-box;text-align: center;}#sk-container-id-1 label.sk-toggleable__label-arrow:before {content: \"▸\";float: left;margin-right: 0.25em;color: #696969;}#sk-container-id-1 label.sk-toggleable__label-arrow:hover:before {color: black;}#sk-container-id-1 div.sk-estimator:hover label.sk-toggleable__label-arrow:before {color: black;}#sk-container-id-1 div.sk-toggleable__content {max-height: 0;max-width: 0;overflow: hidden;text-align: left;background-color: #f0f8ff;}#sk-container-id-1 div.sk-toggleable__content pre {margin: 0.2em;color: black;border-radius: 0.25em;background-color: #f0f8ff;}#sk-container-id-1 input.sk-toggleable__control:checked~div.sk-toggleable__content {max-height: 200px;max-width: 100%;overflow: auto;}#sk-container-id-1 input.sk-toggleable__control:checked~label.sk-toggleable__label-arrow:before {content: \"▾\";}#sk-container-id-1 div.sk-estimator input.sk-toggleable__control:checked~label.sk-toggleable__label {background-color: #d4ebff;}#sk-container-id-1 div.sk-label input.sk-toggleable__control:checked~label.sk-toggleable__label {background-color: #d4ebff;}#sk-container-id-1 input.sk-hidden--visually {border: 0;clip: rect(1px 1px 1px 1px);clip: rect(1px, 1px, 1px, 1px);height: 1px;margin: -1px;overflow: hidden;padding: 0;position: absolute;width: 1px;}#sk-container-id-1 div.sk-estimator {font-family: monospace;background-color: #f0f8ff;border: 1px dotted black;border-radius: 0.25em;box-sizing: border-box;margin-bottom: 0.5em;}#sk-container-id-1 div.sk-estimator:hover {background-color: #d4ebff;}#sk-container-id-1 div.sk-parallel-item::after {content: \"\";width: 100%;border-bottom: 1px solid gray;flex-grow: 1;}#sk-container-id-1 div.sk-label:hover label.sk-toggleable__label {background-color: #d4ebff;}#sk-container-id-1 div.sk-serial::before {content: \"\";position: absolute;border-left: 1px solid gray;box-sizing: border-box;top: 0;bottom: 0;left: 50%;z-index: 0;}#sk-container-id-1 div.sk-serial {display: flex;flex-direction: column;align-items: center;background-color: white;padding-right: 0.2em;padding-left: 0.2em;position: relative;}#sk-container-id-1 div.sk-item {position: relative;z-index: 1;}#sk-container-id-1 div.sk-parallel {display: flex;align-items: stretch;justify-content: center;background-color: white;position: relative;}#sk-container-id-1 div.sk-item::before, #sk-container-id-1 div.sk-parallel-item::before {content: \"\";position: absolute;border-left: 1px solid gray;box-sizing: border-box;top: 0;bottom: 0;left: 50%;z-index: -1;}#sk-container-id-1 div.sk-parallel-item {display: flex;flex-direction: column;z-index: 1;position: relative;background-color: white;}#sk-container-id-1 div.sk-parallel-item:first-child::after {align-self: flex-end;width: 50%;}#sk-container-id-1 div.sk-parallel-item:last-child::after {align-self: flex-start;width: 50%;}#sk-container-id-1 div.sk-parallel-item:only-child::after {width: 0;}#sk-container-id-1 div.sk-dashed-wrapped {border: 1px dashed gray;margin: 0 0.4em 0.5em 0.4em;box-sizing: border-box;padding-bottom: 0.4em;background-color: white;}#sk-container-id-1 div.sk-label label {font-family: monospace;font-weight: bold;display: inline-block;line-height: 1.2em;}#sk-container-id-1 div.sk-label-container {text-align: center;}#sk-container-id-1 div.sk-container {/* jupyter's `normalize.less` sets `[hidden] { display: none; }` but bootstrap.min.css set `[hidden] { display: none !important; }` so we also need the `!important` here to be able to override the default hidden behavior on the sphinx rendered scikit-learn.org. See: https://github.com/scikit-learn/scikit-learn/issues/21755 */display: inline-block !important;position: relative;}#sk-container-id-1 div.sk-text-repr-fallback {display: none;}</style><div id=\"sk-container-id-1\" class=\"sk-top-container\"><div class=\"sk-text-repr-fallback\"><pre>LogisticRegression(max_iter=1000)</pre><b>In a Jupyter environment, please rerun this cell to show the HTML representation or trust the notebook. <br />On GitHub, the HTML representation is unable to render, please try loading this page with nbviewer.org.</b></div><div class=\"sk-container\" hidden><div class=\"sk-item\"><div class=\"sk-estimator sk-toggleable\"><input class=\"sk-toggleable__control sk-hidden--visually\" id=\"sk-estimator-id-1\" type=\"checkbox\" checked><label for=\"sk-estimator-id-1\" class=\"sk-toggleable__label sk-toggleable__label-arrow\">LogisticRegression</label><div class=\"sk-toggleable__content\"><pre>LogisticRegression(max_iter=1000)</pre></div></div></div></div></div>"
            ]
          },
          "metadata": {},
          "execution_count": 11
        }
      ]
    },
    {
      "cell_type": "code",
      "source": [
        "# Making predictions\n",
        "y_pred = model.predict(X_test)"
      ],
      "metadata": {
        "id": "kQlguZShNEGM"
      },
      "execution_count": 12,
      "outputs": []
    },
    {
      "cell_type": "code",
      "source": [
        "score_test = model.score(X_test, y_test)\n",
        "print(\"Accuracy Score on Test Set: {:.2f}%\".format(score_test * 100))"
      ],
      "metadata": {
        "colab": {
          "base_uri": "https://localhost:8080/"
        },
        "id": "glDiZhHdNENR",
        "outputId": "eec2c2df-1721-48ba-c96d-ddd3fc169650"
      },
      "execution_count": 13,
      "outputs": [
        {
          "output_type": "stream",
          "name": "stdout",
          "text": [
            "Accuracy Score on Test Set: 100.00%\n"
          ]
        }
      ]
    },
    {
      "cell_type": "code",
      "source": [
        "# Calculating the classification report\n",
        "classification_report = classification_report(y_test, y_pred, target_names=[\"Not Survived\", \"Survived\"])\n",
        "print(\"Classification Report:\\n\", classification_report)"
      ],
      "metadata": {
        "colab": {
          "base_uri": "https://localhost:8080/"
        },
        "id": "x066jz37j-dK",
        "outputId": "cf928d5b-55d1-46dc-93b5-23121b2a570b"
      },
      "execution_count": 14,
      "outputs": [
        {
          "output_type": "stream",
          "name": "stdout",
          "text": [
            "Classification Report:\n",
            "               precision    recall  f1-score   support\n",
            "\n",
            "Not Survived       1.00      1.00      1.00       134\n",
            "    Survived       1.00      1.00      1.00        89\n",
            "\n",
            "    accuracy                           1.00       223\n",
            "   macro avg       1.00      1.00      1.00       223\n",
            "weighted avg       1.00      1.00      1.00       223\n",
            "\n"
          ]
        }
      ]
    },
    {
      "cell_type": "markdown",
      "source": [
        "## Classification Report\n",
        "\n",
        "---------\n",
        "\n",
        "<br>\n",
        "<center>\n",
        "\n",
        "|    | **Precision** | **Recall** | **F1-Score** | **Support** |\n",
        "|:---|:----------|:-------|:---------|:--------|\n",
        "| Not Survived | 1.00 | 1.00 | 1.00 | 134 |\n",
        "| Survived | 1.00 | 1.00 | 1.00 | 89 |\n",
        "| Accuracy | | | 1.00 | 223 |\n",
        "| Macro avg | 1.00 | 1.00 | 1.00 | 223 |\n",
        "| Weighted avg | 1.00 | 1.00 | 1.00 | 223 |\n",
        "\n",
        "</center>"
      ],
      "metadata": {
        "id": "bhF5romSevxu"
      }
    }
  ],
  "metadata": {
    "kernelspec": {
      "display_name": "PhD",
      "language": "python",
      "name": "python3"
    },
    "language_info": {
      "codemirror_mode": {
        "name": "ipython",
        "version": 3
      },
      "file_extension": ".py",
      "mimetype": "text/x-python",
      "name": "python",
      "nbconvert_exporter": "python",
      "pygments_lexer": "ipython3",
      "version": "3.8.13"
    },
    "orig_nbformat": 4,
    "colab": {
      "provenance": []
    }
  },
  "nbformat": 4,
  "nbformat_minor": 0
}